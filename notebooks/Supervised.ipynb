{
 "cells": [
  {
   "cell_type": "markdown",
   "id": "175fb36c",
   "metadata": {},
   "source": [
    "## Pipeline for supervised modeling"
   ]
  },
  {
   "cell_type": "code",
   "execution_count": null,
   "id": "b24cea7f",
   "metadata": {},
   "outputs": [],
   "source": [
    "import os\n",
    "\n",
    "# Check if it's in the correct directory\n",
    "print(\"Current working directory:\", os.getcwd())\n",
    "path = os.path.abspath(os.path.join(os.getcwd(), '..', 'path.py'))\n",
    "%run $path"
   ]
  },
  {
   "cell_type": "markdown",
   "id": "c7d50d90",
   "metadata": {},
   "source": [
    "##### Configure notebook"
   ]
  },
  {
   "cell_type": "code",
   "execution_count": null,
   "id": "7e1f2de9",
   "metadata": {},
   "outputs": [],
   "source": [
    "# Import data\n",
    "train_file = '../data/in_vitro/mico/train.csv'\n",
    "val_file = '../data/in_vitro/mico/val.csv'\n",
    "test_file = '../data/in_vitro/mico/test.csv'\n",
    "\n",
    "# Configure dataloader\n",
    "batch_size=256\n",
    "\n",
    "# Modeling parameters\n",
    "architecture_type='eegnn'\n",
    "task_type='classification'\n",
    "use_uncertainty=False\n",
    "n_trials=0\n",
    "calibration=False\n",
    "\n",
    "# Save the trained model\n",
    "model_directory = '../output/models'\n",
    "params_directory = '../output/params'\n",
    "filename = 'model'\n",
    "fig_path1=\"../output/figures/probabilities.png\"\n",
    "fig_path4=\"../output/figures\"\n",
    "\n",
    "# Plot embeddings along the epochs\n",
    "method=\"tSNE\"\n",
    "emb_path=\"../output/embeddings\"\n",
    "fig_path2=\"../output/figures\"\n",
    "fig_path3=\"../output/figures\""
   ]
  },
  {
   "cell_type": "markdown",
   "id": "940263f5",
   "metadata": {},
   "source": [
    "##### Load data"
   ]
  },
  {
   "cell_type": "code",
   "execution_count": null,
   "id": "fc7d1ca5",
   "metadata": {},
   "outputs": [],
   "source": [
    "from load_data import load_data\n",
    "\n",
    "train_smiles, y_train = load_data(train_file)\n",
    "val_smiles, y_val = load_data(val_file)\n",
    "test_smiles, y_test = load_data(test_file)\n",
    "\n",
    "print(f\"Training data: {len(train_smiles)} samples\")\n",
    "print(f\"Validation data: {len(val_smiles)} samples\")\n",
    "print(f\"Test data: {len(test_smiles)} samples\")"
   ]
  },
  {
   "cell_type": "code",
   "execution_count": null,
   "id": "6bbb5b83",
   "metadata": {},
   "outputs": [],
   "source": [
    "# from load_data import load_data, get_task_names, analyze_all_datasets, check_empty_samples_all_datasets, check_invalid_smiles, to_float_array\n",
    "\n",
    "# train_smiles, y_train = load_data(train_file)\n",
    "# val_smiles, y_val = load_data(val_file)\n",
    "# test_smiles, y_test = load_data(test_file)\n",
    "# y_train = to_float_array(y_train)\n",
    "# y_val = to_float_array(y_val)\n",
    "# y_test = to_float_array(y_test)\n",
    "# print(f\"Training data: {len(train_smiles)} samples\")\n",
    "# print(f\"Validation data: {len(val_smiles)} samples\")\n",
    "# print(f\"Test data: {len(test_smiles)} samples\")\n",
    "\n",
    "# # Data analysis\n",
    "# task_names = get_task_names(train_file)\n",
    "# check_invalid_smiles(train_smiles)\n",
    "\n",
    "# check_empty_samples_all_datasets(\n",
    "#     train_data=(train_smiles, y_train),\n",
    "#     val_data=(val_smiles, y_val),\n",
    "#     test_data=(test_smiles, y_test)\n",
    "# )\n",
    "\n",
    "# analyze_all_datasets(\n",
    "#     train_data=(train_smiles, y_train),\n",
    "#     val_data=(val_smiles, y_val),\n",
    "#     test_data=(test_smiles, y_test),\n",
    "#     task_names=task_names\n",
    "# )"
   ]
  },
  {
   "cell_type": "markdown",
   "id": "801994cb",
   "metadata": {},
   "source": [
    "##### Building molecular graphs in data loaders"
   ]
  },
  {
   "cell_type": "code",
   "execution_count": null,
   "id": "17ada0b5",
   "metadata": {},
   "outputs": [],
   "source": [
    "from loaders import graph_loader, graph_info\n",
    "\n",
    "train_loader, val_loader, test_loader = graph_loader(\n",
    "    train_smiles, \n",
    "    val_smiles, \n",
    "    test_smiles, \n",
    "    y_train, \n",
    "    y_val, \n",
    "    y_test, \n",
    "    batch_size=batch_size,\n",
    "    seed=42)\n",
    "\n",
    "node_dim, edge_dim, num_tasks = graph_info(train_loader)\n",
    "print(f\"Max number of atom features: {node_dim}\")\n",
    "print(f\"Max number of bond features: {edge_dim}\")\n",
    "print(f\"Number of tasks: {num_tasks}\")"
   ]
  },
  {
   "cell_type": "markdown",
   "id": "390dabc8",
   "metadata": {},
   "source": [
    "##### Starting optuna optimization"
   ]
  },
  {
   "cell_type": "code",
   "execution_count": null,
   "id": "259bd25e",
   "metadata": {},
   "outputs": [],
   "source": [
    "from optimizer import objective\n",
    "from params import initialize_optuna\n",
    "\n",
    "study = initialize_optuna()\n",
    "study.optimize(lambda trial: objective(\n",
    "    trial, \n",
    "    node_dim, \n",
    "    edge_dim, \n",
    "    train_loader, \n",
    "    val_loader, \n",
    "    num_tasks, \n",
    "    architecture_type=architecture_type,\n",
    "    task_type=task_type, \n",
    "    use_uncertainty=use_uncertainty), \n",
    "    n_trials=50)\n",
    "\n",
    "best_params = study.best_params\n",
    "best_trial = study.best_trial\n",
    "print(\"Best hyperparameters:\", best_params)"
   ]
  },
  {
   "cell_type": "markdown",
   "id": "a566769f",
   "metadata": {},
   "source": [
    "##### Run best model found in optuna optimization"
   ]
  },
  {
   "cell_type": "code",
   "execution_count": null,
   "id": "c0f8c5cb",
   "metadata": {},
   "outputs": [],
   "source": [
    "from optimizer import retrain\n",
    "from save import save_model, save_params\n",
    "\n",
    "best_params = study.best_params\n",
    "model, best_val_loss, min_val_loss, train_losses, val_losses = retrain(\n",
    "    best_params, \n",
    "    node_dim, \n",
    "    edge_dim, \n",
    "    train_loader, \n",
    "    val_loader, \n",
    "    num_tasks, \n",
    "    architecture_type=architecture_type,\n",
    "    task_type=task_type, \n",
    "    use_uncertainty=use_uncertainty)\n",
    "\n",
    "save_model(model, model_directory, filename)\n",
    "save_params(best_params, params_directory, filename)"
   ]
  },
  {
   "cell_type": "markdown",
   "id": "1cda2bf1",
   "metadata": {},
   "source": [
    "##### Statistical analysis of best model"
   ]
  },
  {
   "cell_type": "code",
   "execution_count": null,
   "id": "0976588e",
   "metadata": {},
   "outputs": [],
   "source": [
    "from utils import device\n",
    "from statistical import ClassificationEvaluator\n",
    "\n",
    "ClassificationEvaluator(\n",
    "    model=model,\n",
    "    device=device,\n",
    "    train_loader=train_loader,\n",
    "    val_loader=val_loader,\n",
    "    test_loader=test_loader,\n",
    "    calibration=True)"
   ]
  },
  {
   "cell_type": "markdown",
   "id": "b649d964",
   "metadata": {},
   "source": [
    "##### Print the confusion matrice and probability histogram"
   ]
  },
  {
   "cell_type": "code",
   "execution_count": null,
   "id": "410b1dd3",
   "metadata": {},
   "outputs": [],
   "source": [
    "from utils import device\n",
    "from densities import plot_confusion_matrix_and_histograms\n",
    "\n",
    "threshold_json = \"../output/calibration/thresholds.json\"\n",
    "plot_confusion_matrix_and_histograms(\n",
    "    model,\n",
    "    [train_loader, val_loader, test_loader],\n",
    "    device,\n",
    "    thresholds_json=threshold_json,\n",
    "    out_path=fig_path4\n",
    ")"
   ]
  },
  {
   "cell_type": "markdown",
   "id": "e947767e",
   "metadata": {},
   "source": [
    "##### Print the probability densities"
   ]
  },
  {
   "cell_type": "code",
   "execution_count": null,
   "id": "bd938cf6",
   "metadata": {},
   "outputs": [],
   "source": [
    "from utils import device\n",
    "from densities import plot_probability\n",
    "\n",
    "plot_probability(\n",
    "    model, \n",
    "    test_loader, \n",
    "    device,\n",
    "    threshold=0.5,\n",
    "    out_path=fig_path1)"
   ]
  },
  {
   "cell_type": "markdown",
   "id": "701f7a47",
   "metadata": {},
   "source": [
    "##### Visualize embeddings along the epochs"
   ]
  },
  {
   "cell_type": "code",
   "execution_count": null,
   "id": "ffef1823",
   "metadata": {},
   "outputs": [],
   "source": [
    "from embeddings import visualize_embeddings\n",
    "\n",
    "visualize_embeddings(\n",
    "    in_path=emb_path,\n",
    "    epoch=45,\n",
    "    method=method,\n",
    "    task_index=0,\n",
    "    out_path=fig_path2)"
   ]
  },
  {
   "cell_type": "code",
   "execution_count": null,
   "id": "45aa502b",
   "metadata": {},
   "outputs": [],
   "source": [
    "from embeddings import visualize_kde_dim\n",
    "\n",
    "visualize_kde_dim(\n",
    "    in_path=emb_path,\n",
    "    epoch=45,\n",
    "    method=method,\n",
    "    task_index=0,\n",
    "    out_path=fig_path3)"
   ]
  },
  {
   "cell_type": "markdown",
   "id": "c0ef1798",
   "metadata": {},
   "source": [
    "#### Save model's backup"
   ]
  },
  {
   "cell_type": "code",
   "execution_count": null,
   "id": "d943912d",
   "metadata": {},
   "outputs": [],
   "source": [
    "from backup_results import execute_backup\n",
    "\n",
    "folder_path = r\"C:\\Users\\gusta\\Documents\\holisticGNN\\results\"  # Choose a folder in your machine\n",
    "experiment_name = \"mpnn_30trials_b256\"  # Try to add essential details, i.e., architecture, classification, batchsize, uncertainty. \n",
    "\n",
    "# Execute backup\n",
    "backup = execute_backup(folder_path, experiment_name)\n",
    "\n",
    "print(f\"\\n✅ Backup done!\")"
   ]
  }
 ],
 "metadata": {
  "kernelspec": {
   "display_name": "graph",
   "language": "python",
   "name": "python3"
  },
  "language_info": {
   "codemirror_mode": {
    "name": "ipython",
    "version": 3
   },
   "file_extension": ".py",
   "mimetype": "text/x-python",
   "name": "python",
   "nbconvert_exporter": "python",
   "pygments_lexer": "ipython3",
   "version": "3.9.15"
  }
 },
 "nbformat": 4,
 "nbformat_minor": 5
}
