{
 "cells": [
  {
   "cell_type": "markdown",
   "id": "055eca83",
   "metadata": {},
   "source": [
    "## Pipeline for model explainability"
   ]
  },
  {
   "cell_type": "code",
   "execution_count": null,
   "id": "a85a6118",
   "metadata": {},
   "outputs": [],
   "source": [
    "import os\n",
    "\n",
    "# Check if we are in the correct directory\n",
    "print(\"Current working directory:\", os.getcwd())\n",
    "path = os.path.abspath(os.path.join(os.getcwd(), '..', 'path.py'))\n",
    "%run $path\n",
    "os.environ[\"KMP_DUPLICATE_LIB_OK\"] = \"TRUE\""
   ]
  },
  {
   "cell_type": "code",
   "execution_count": null,
   "id": "efa3d0f4",
   "metadata": {},
   "outputs": [],
   "source": [
    "# Import data\n",
    "train_file = '../data/in_vitro/mico/train.csv'\n",
    "val_file = '../data/in_vitro/mico/val.csv'\n",
    "test_file = '../data/in_vitro/mico/test.csv'\n",
    "\n",
    "# Load pre-trained model and their hypeparameters\n",
    "architecture_type = 'mpnn'\n",
    "hyperparams_path = \"../output/params/model.json\"\n",
    "model_path = \"../output/models/model.pth\"\n",
    "\n",
    "# Plot contribution maps using counterfactual perturbations\n",
    "cont_maps = \"../output/explanations/similarities/\"\n",
    "\n",
    "# Plot attention scores onto maps (only for attentive GNNs)\n",
    "attn_maps = \"../output/explanations/attentions/\""
   ]
  },
  {
   "cell_type": "markdown",
   "id": "79a55112",
   "metadata": {},
   "source": [
    "##### Load data"
   ]
  },
  {
   "cell_type": "code",
   "execution_count": null,
   "id": "25512a4d",
   "metadata": {},
   "outputs": [],
   "source": [
    "from load_data import load_data\n",
    "\n",
    "train_smiles, y_train = load_data(train_file)\n",
    "val_smiles, y_val = load_data(val_file)\n",
    "test_smiles, y_test = load_data(test_file)\n",
    "\n",
    "print(f\"Training data: {len(train_smiles)} samples\")\n",
    "print(f\"Validation data: {len(val_smiles)} samples\")\n",
    "print(f\"Test data: {len(test_smiles)} samples\")"
   ]
  },
  {
   "cell_type": "markdown",
   "id": "75d76be5",
   "metadata": {},
   "source": [
    "##### Building molecular graphs in data loaders"
   ]
  },
  {
   "cell_type": "code",
   "execution_count": null,
   "id": "510272d7",
   "metadata": {},
   "outputs": [],
   "source": [
    "from loaders import graph_loader, graph_info\n",
    "\n",
    "train_loader, val_loader, test_loader = graph_loader(\n",
    "    train_smiles, \n",
    "    val_smiles, \n",
    "    test_smiles, \n",
    "    y_train, \n",
    "    y_val, \n",
    "    y_test, \n",
    "    batch_size=256)\n",
    "\n",
    "node_dim, edge_dim, num_tasks = graph_info(train_loader)\n",
    "print(f\"Max number of atom features: {node_dim}\")\n",
    "print(f\"Max number of bond features: {edge_dim}\")\n",
    "print(f\"Number of tasks: {num_tasks}\")"
   ]
  },
  {
   "cell_type": "markdown",
   "id": "ab9a060d",
   "metadata": {},
   "source": [
    "##### Loading pre-trained (supervised only) model"
   ]
  },
  {
   "cell_type": "code",
   "execution_count": null,
   "id": "8090d1a1",
   "metadata": {},
   "outputs": [],
   "source": [
    "from params import  load_params, load_model\n",
    "\n",
    "params = load_params(hyperparams_path)\n",
    "model = load_model(\n",
    "    model_path, \n",
    "    architecture_type, \n",
    "    params, \n",
    "    node_dim, \n",
    "    edge_dim, \n",
    "    num_tasks)"
   ]
  },
  {
   "cell_type": "code",
   "execution_count": null,
   "id": "458a9d75",
   "metadata": {},
   "outputs": [],
   "source": [
    "from utils import device\n",
    "from statistical import ClassificationEvaluator\n",
    "\n",
    "\n",
    "model = model.to(device)\n",
    "ClassificationEvaluator(\n",
    "    model=model,\n",
    "    device=device,\n",
    "    train_loader=train_loader,\n",
    "    val_loader=val_loader,\n",
    "    test_loader=test_loader,\n",
   ]
  },
  {
   "cell_type": "markdown",
   "id": "218ae1c6",
   "metadata": {},
   "source": [
    "##### Plot counterfactual contribution maps"
   ]
  },
  {
   "cell_type": "code",
   "execution_count": null,
   "id": "2c2eb7a9",
   "metadata": {},
   "outputs": [],
   "source": [
    "from utils import device\n",
    "from explanations import view_explanations\n",
    "\n",
    "view_explanations(\n",
    "    model, \n",
    "    test_loader, \n",
    "    device, \n",
    "    out_path=cont_maps,\n",
    "    cluster_alpha = 0.3,\n",
    "    smooth_alpha = 0.3,\n",
    "    task_idx=0)"
   ]
  },
  {
   "cell_type": "markdown",
   "id": "d5cc9f63",
   "metadata": {},
   "source": [
    "##### Plot attention weights"
   ]
  },
  {
   "cell_type": "code",
   "execution_count": null,
   "id": "a3b5f8b6",
   "metadata": {},
   "outputs": [],
   "source": [
    "from utils import device\n",
    "from explanations import view_attentions\n",
    "\n",
    "view_attentions(\n",
    "    model,\n",
    "    test_loader,\n",
    "    device,\n",
    "    out_path=attn_maps,\n",
    "    cluster_alpha = 0.3,\n",
    "    smooth_alpha = 0.3)"
   ]
  }
 ],
 "metadata": {
  "kernelspec": {
   "display_name": "graph",
   "language": "python",
   "name": "python3"
  },
  "language_info": {
   "codemirror_mode": {
    "name": "ipython",
    "version": 3
   },
   "file_extension": ".py",
   "mimetype": "text/x-python",
   "name": "python",
   "nbconvert_exporter": "python",
   "pygments_lexer": "ipython3",
   "version": "3.9.15"
  }
 },
 "nbformat": 4,
 "nbformat_minor": 5
}
