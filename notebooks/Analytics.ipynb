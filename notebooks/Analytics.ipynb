{
 "cells": [
  {
   "cell_type": "markdown",
   "id": "eb250306",
   "metadata": {},
   "source": [
    "## Data analytics framework"
   ]
  },
  {
   "cell_type": "code",
   "execution_count": null,
   "id": "b24cea7f",
   "metadata": {},
   "outputs": [],
   "source": [
    "import os\n",
    "\n",
    "# Check if we are in the correct directory\n",
    "print(\"Current working directory:\", os.getcwd())\n",
    "path = os.path.abspath(os.path.join(os.getcwd(), '..', 'path.py'))\n",
    "%run $path"
   ]
  },
  {
   "cell_type": "code",
   "execution_count": null,
   "id": "4e6770c2",
   "metadata": {},
   "outputs": [],
   "source": [
    "import pandas as pd\n",
    "import numpy as np\n",
    "import matplotlib.pyplot as plt\n",
    "\n",
    "train = pd.read_csv('../data/leish10/train.csv')\n",
    "val   = pd.read_csv('../data/leish10/val.csv')\n",
    "test  = pd.read_csv('../data/leish10/test.csv')\n",
    "\n",
    "df_all = pd.concat([train, val, test], ignore_index=True)\n",
    "counts = (df_all['Class']\n",
    "          .value_counts()\n",
    "          .sort_index()\n",
    "          .reset_index())\n",
    "counts.columns = ['Class', 'Count']\n",
    "counts['Label'] = counts['Class'].map({1.0:'Actives', 0.0:'Inactives'})\n",
    "counts = counts.iloc[::-1].reset_index(drop=True)\n",
    "\n",
    "colors = {'Actives':'#2AAD0F', 'Inactives':'#A1C3CE'}\n",
    "\n",
    "fig, ax = plt.subplots(figsize=(2.5, 3))\n",
    "x     = np.arange(len(counts))\n",
    "width = 0.8\n",
    "\n",
    "ax.bar(\n",
    "    x,\n",
    "    counts['Count'],\n",
    "    width=width,\n",
    "    color=[colors[label] for label in counts['Label']]\n",
    ")\n",
    "\n",
    "ax.set_xticks(x)\n",
    "ax.set_xticklabels(counts['Label'])\n",
    "ax.set_xlabel('Class', fontsize=16)\n",
    "ax.set_ylabel('Count', fontsize=16)\n",
    "\n",
    "for spine in ['top', 'right', 'bottom', 'left']:\n",
    "    ax.spines[spine].set_visible(True)\n",
    "ax.tick_params(axis='x', direction='out', length=4)\n",
    "ax.tick_params(axis='y', direction='out', length=4)\n",
    "\n",
    "plt.tight_layout()\n",
    "plt.show()\n",
    "\n"
   ]
  },
  {
   "cell_type": "markdown",
   "id": "f346647b",
   "metadata": {},
   "source": [
    "##### Configure notebook"
   ]
  },
  {
   "cell_type": "code",
   "execution_count": 3,
   "id": "4bdc735e",
   "metadata": {},
   "outputs": [],
   "source": [
    "# Dataset splitting parameter\n",
    "split = 'random'\n",
    "\n",
    "# Select the input e output data\n",
    "input = '../data/dataset.csv'\n",
    "output = '../data/'"
   ]
  },
  {
   "cell_type": "markdown",
   "id": "24a30f71",
   "metadata": {},
   "source": [
    "##### Load data"
   ]
  },
  {
   "cell_type": "code",
   "execution_count": null,
   "id": "8d99551b",
   "metadata": {},
   "outputs": [],
   "source": [
    "import pandas as pd\n",
    "\n",
    "dataset = pd.read_csv(input)\n",
    "print(dataset.head(10).to_markdown(index=False))"
   ]
  },
  {
   "cell_type": "markdown",
   "id": "b0716796",
   "metadata": {},
   "source": [
    "##### Early chemical curation"
   ]
  },
  {
   "cell_type": "code",
   "execution_count": null,
   "id": "23d54371",
   "metadata": {},
   "outputs": [],
   "source": [
    "from sanitize import trustBTverify\n",
    "\n",
    "sanitized = trustBTverify(dataset)\n",
    "print(sanitized.head(10).to_markdown(index=False))"
   ]
  },
  {
   "cell_type": "markdown",
   "id": "48ac794a",
   "metadata": {},
   "source": [
    "##### Data splitting using multiple techniques"
   ]
  },
  {
   "cell_type": "code",
   "execution_count": null,
   "id": "c6a98137",
   "metadata": {},
   "outputs": [],
   "source": [
    "from split import DataSpliter\n",
    "\n",
    "DataSpliter(\n",
    "    method=split, \n",
    "    df=sanitized, \n",
    "    out_path=output\n",
    "    )"
   ]
  },
  {
   "cell_type": "markdown",
   "id": "1c6e43ef",
   "metadata": {},
   "source": [
    "##### Chemical diversity analysis of full dataset"
   ]
  },
  {
   "cell_type": "code",
   "execution_count": null,
   "id": "3d774994",
   "metadata": {},
   "outputs": [],
   "source": [
    "from space import SimilarityAnalysis\n",
    "\n",
    "similarity_analysis = SimilarityAnalysis(sanitized)\n",
    "similarity_analysis.run()"
   ]
  },
  {
   "cell_type": "markdown",
   "id": "42aac5fd",
   "metadata": {},
   "source": [
    "##### Physicochemical diversity analysis of full dataset"
   ]
  },
  {
   "cell_type": "code",
   "execution_count": null,
   "id": "4b66242d",
   "metadata": {},
   "outputs": [],
   "source": [
    "from space import ScatterPlotMatrix\n",
    "\n",
    "scatter_plot_matrix = ScatterPlotMatrix(sanitized)\n",
    "scatter_plot_matrix.add_properties()\n",
    "scatter_plot_matrix.plot()"
   ]
  }
 ],
 "metadata": {
  "kernelspec": {
   "display_name": "graph",
   "language": "python",
   "name": "python3"
  },
  "language_info": {
   "codemirror_mode": {
    "name": "ipython",
    "version": 3
   },
   "file_extension": ".py",
   "mimetype": "text/x-python",
   "name": "python",
   "nbconvert_exporter": "python",
   "pygments_lexer": "ipython3",
   "version": "3.9.23"
  }
 },
 "nbformat": 4,
 "nbformat_minor": 5
}
